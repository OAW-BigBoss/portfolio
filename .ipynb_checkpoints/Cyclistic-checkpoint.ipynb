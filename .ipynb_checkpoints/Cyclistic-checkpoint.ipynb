{
 "cells": [
  {
   "cell_type": "markdown",
   "id": "187e8075-9b7a-4801-9bf4-8ac370889423",
   "metadata": {},
   "source": [
    "# Data Science Project: Cyclistic"
   ]
  },
  {
   "cell_type": "markdown",
   "id": "dde4f18b-bef5-48f7-bc6b-010f923d3b60",
   "metadata": {},
   "source": [
    "<p>\n",
    "    <li>Author: <b>Mario Orantes</b></li>\n",
    "    <li>Email: mariorantes95@gmail.com</li>\n",
    "    <li>On my honor I promise not to copy so that this portfolio reflects my true level of knowledge.</li>\n",
    "</p>"
   ]
  },
  {
   "cell_type": "markdown",
   "id": "7fe9b7d3-a26b-4f7d-81ba-4f388cc8fe1d",
   "metadata": {},
   "source": [
    "### In this project, I will investigate how to generate more income by engaging the new and casual cyclists to the company. The core of the analysis will show how to create this \"engage\" between the clients and the company.\n",
    "\n",
    "Before making any suggestions to the company we need to have a starting point. The starting point should comprehend the following:\n",
    "- Who are our customers?\n",
    "    - What differences are between them?\n",
    "- What customers use what product/service the most?\n",
    "- What is the next step?\n",
    "</p>\n"
   ]
  },
  {
   "cell_type": "markdown",
   "id": "9a6d974e-8646-4747-8aba-3842ad2e09c6",
   "metadata": {},
   "source": [
    "# Importing Libraries"
   ]
  },
  {
   "cell_type": "code",
   "execution_count": 1,
   "id": "8af0aa99-0fbf-4297-945c-a92c54c21905",
   "metadata": {},
   "outputs": [],
   "source": [
    "import pandas as pd\n",
    "import numpy as np\n",
    "import matplotlib.pyplot as plt\n",
    "import matplotlib.ticker as ticker\n",
    "import os\n",
    "import datetime as dt\n",
    "import re\n",
    "import seaborn as sns\n",
    "%matplotlib inline  "
   ]
  },
  {
   "cell_type": "markdown",
   "id": "ed96bb5b-8af6-402d-87d1-7d34a3029df0",
   "metadata": {},
   "source": [
    "# Extracting Raw Data from CSV's"
   ]
  },
  {
   "cell_type": "markdown",
   "id": "eb88600b-9a4a-4e09-a746-8ef5224902f2",
   "metadata": {},
   "source": [
    "All the data from this company resides in several csv files within the same folder. The files that we are going to use for this analysis have the following structure: \"xxxx-divvy-tripdata.csv\". The rest of the files will be omited because they contain a totally different structure and purpose for the company."
   ]
  },
  {
   "cell_type": "code",
   "execution_count": 2,
   "id": "a63b948e-7a14-4ac0-baf7-37af0190e0e6",
   "metadata": {},
   "outputs": [
    {
     "ename": "FileNotFoundError",
     "evalue": "[Errno 2] No such file or directory: '../../datasources/Cyclistic'",
     "output_type": "error",
     "traceback": [
      "\u001b[0;31m---------------------------------------------------------------------------\u001b[0m",
      "\u001b[0;31mFileNotFoundError\u001b[0m                         Traceback (most recent call last)",
      "Input \u001b[0;32mIn [2]\u001b[0m, in \u001b[0;36m<cell line: 2>\u001b[0;34m()\u001b[0m\n\u001b[1;32m      1\u001b[0m \u001b[38;5;66;03m# Getting all files\u001b[39;00m\n\u001b[0;32m----> 2\u001b[0m raw_files \u001b[38;5;241m=\u001b[39m \u001b[43mos\u001b[49m\u001b[38;5;241;43m.\u001b[39;49m\u001b[43mlistdir\u001b[49m\u001b[43m(\u001b[49m\u001b[38;5;124;43m'\u001b[39;49m\u001b[38;5;124;43m../../datasources/Cyclistic\u001b[39;49m\u001b[38;5;124;43m'\u001b[39;49m\u001b[43m)\u001b[49m\n\u001b[1;32m      3\u001b[0m raw_files\n",
      "\u001b[0;31mFileNotFoundError\u001b[0m: [Errno 2] No such file or directory: '../../datasources/Cyclistic'"
     ]
    }
   ],
   "source": [
    "# Getting all files\n",
    "raw_files = os.listdir('../../datasources/Cyclistic')\n",
    "raw_files"
   ]
  },
  {
   "cell_type": "code",
   "execution_count": null,
   "id": "f7b6a0d9-cbc6-4c4a-aedb-a8d069e1c0bd",
   "metadata": {},
   "outputs": [],
   "source": [
    "#Filtering to get the files in question\n",
    "r = re.compile('\\\\d+-divvy-tripdata\\\\.csv')\n",
    "files_cy = list(filter(r.match,raw_files))\n",
    "files_cy"
   ]
  },
  {
   "cell_type": "code",
   "execution_count": null,
   "id": "0eacec78-e4c2-461f-a331-819adbcab494",
   "metadata": {},
   "outputs": [],
   "source": [
    "#Extracting the data of each file to a single dataframe\n",
    "df_raw = pd.DataFrame([])\n",
    "\n",
    "for i,item in enumerate(files_cy):\n",
    "\n",
    "    df_item = pd.read_csv(f'../../datasources/Cyclistic/{item}')\n",
    "    #debugging dups\n",
    "    df_item['file_name'] = item\n",
    "    \n",
    "    df_raw = pd.concat([df_raw,df_item],axis=0)\n",
    "    \n",
    "    print(f'SUCCESS! with {item}')"
   ]
  },
  {
   "cell_type": "markdown",
   "id": "bb953df1-c0dc-428f-86b8-9a47a03c036d",
   "metadata": {},
   "source": [
    "All this extraction takes time and probably more files will be added. In order to make this notebook faster and to have a starting point, we will save the extracted data into a CSV file to be later read by another dataframe so whenever we start/continue with another analysis we can use this new file instead of extracting all over again (Time Consuming)."
   ]
  },
  {
   "cell_type": "code",
   "execution_count": null,
   "id": "9584a40c-58d8-48a1-8ace-99f1fdcfb781",
   "metadata": {},
   "outputs": [],
   "source": [
    "#Saving the data as a CSV\n",
    "df_raw.to_csv('../datasources/Cyclistic/cyclistic_20202021.csv',index=False)"
   ]
  },
  {
   "cell_type": "code",
   "execution_count": null,
   "id": "a1dfec3a-8e13-4977-8259-ecc1efa9b478",
   "metadata": {},
   "outputs": [],
   "source": [
    "# Checkpoint to save time after extracting the data.\n",
    "df_cc = pd.read_csv('../datasources/Cyclistic/cyclistic_20202021.csv', low_memory=False)\n",
    "df_cc.head()"
   ]
  },
  {
   "cell_type": "markdown",
   "id": "4324c4ea-ff85-46e9-8f26-5212f98d8fb1",
   "metadata": {},
   "source": [
    "# Transformation Process\n",
    "## Cleaning and Preparing Data for Analysis"
   ]
  },
  {
   "cell_type": "code",
   "execution_count": null,
   "id": "f4aeafe1-ee51-4617-9850-436191ec2b93",
   "metadata": {},
   "outputs": [],
   "source": [
    "# Checking data types per column\n",
    "df_cc.info()"
   ]
  },
  {
   "cell_type": "markdown",
   "id": "0d63d49b-5001-4146-8014-3195d672248d",
   "metadata": {},
   "source": [
    "### Transforming started_at & ended_at to datetime"
   ]
  },
  {
   "cell_type": "code",
   "execution_count": null,
   "id": "8842885c-035b-4890-a0a4-1421bd159251",
   "metadata": {},
   "outputs": [],
   "source": [
    "#started_at\n",
    "df_cc.started_at = pd.to_datetime(df_cc.started_at)\n",
    "#ended_at\n",
    "df_cc.ended_at = pd.to_datetime(df_cc['ended_at'])\n",
    "df_cc.head()"
   ]
  },
  {
   "cell_type": "markdown",
   "id": "c5499a63-7456-43bc-8081-58b79c7b58fb",
   "metadata": {},
   "source": [
    "### Calculating the length of each ride: \n",
    "Ride Length = Datetime When Ended - Datetime When Started\n"
   ]
  },
  {
   "cell_type": "code",
   "execution_count": null,
   "id": "811df74e-fd04-40a9-acba-4f51616ac87c",
   "metadata": {},
   "outputs": [],
   "source": [
    "df_cc['ride_length'] = df_cc.ended_at - df_cc.started_at\n",
    "df_cc.head()"
   ]
  },
  {
   "cell_type": "markdown",
   "id": "4d120fcf-961d-4812-97c2-7f1e41f28e44",
   "metadata": {},
   "source": [
    "### Field day of week:\n",
    "#### - Day when the trip was performed (started_at as point of reference in case of finishing the trip on a different date)\n",
    "#### - Setting `Sunday` as First day of the week"
   ]
  },
  {
   "cell_type": "code",
   "execution_count": null,
   "id": "e5fe9c32-d51f-4309-a950-46c1a94498c7",
   "metadata": {},
   "outputs": [],
   "source": [
    "df_cc['day_of_week'] = df_cc.started_at.dt.dayofweek.apply(lambda x: x+2 if x!=6 else 1)\n",
    "df_cc['day_name'] = df_cc.started_at.dt.day_name()\n",
    "df_cc.head()"
   ]
  },
  {
   "cell_type": "markdown",
   "id": "8fce5e7f-32d1-4b10-8ac0-d064a496cd5a",
   "metadata": {},
   "source": [
    "## Cleaning Process\n",
    "### There are some rides showing negative ride lengths e.g."
   ]
  },
  {
   "cell_type": "code",
   "execution_count": null,
   "id": "677f6256-8eb3-4c13-b9f3-f5d779dcbfbd",
   "metadata": {},
   "outputs": [],
   "source": [
    "bad_data = pd.DataFrame([])\n",
    "bad_data = df_cc.loc[df_cc.ride_length.dt.total_seconds() < 0,:].copy()\n",
    "bad_data['ride_duration_sec'] = bad_data.ride_length.dt.total_seconds()\n",
    "bad_data.loc[:,['ride_id','started_at','ended_at','ride_length','ride_duration_sec']]"
   ]
  },
  {
   "cell_type": "markdown",
   "id": "fb38f33b-354a-4fda-b9e7-1394733b119b",
   "metadata": {},
   "source": [
    "#### Also there are rides with the same ride id. It doesn't make sense since the ride_id must be unique. In this scenario the \"dup\"/\"incorrect\" row is asumed to be the one with negative ride_length."
   ]
  },
  {
   "cell_type": "code",
   "execution_count": null,
   "id": "54e2b593-57d4-4305-aebd-c1cb570dbacb",
   "metadata": {},
   "outputs": [],
   "source": [
    "df_cc[df_cc.ride_id == 'A4322BE60B7192CA']"
   ]
  },
  {
   "cell_type": "markdown",
   "id": "4203caa5-1920-468a-9c5a-a593b0fe51e9",
   "metadata": {},
   "source": [
    "#### Does it makes sense to include ride_lengths of zero? Noup! Maybe there are fluke or bug in the system. It will be ignore in our analysis."
   ]
  },
  {
   "cell_type": "code",
   "execution_count": null,
   "id": "db6f4145-c12c-4a6e-b2c8-25fa724d3715",
   "metadata": {},
   "outputs": [],
   "source": [
    "duration_zero = df_cc.loc[df_cc.ride_length.dt.total_seconds() == 0,'ride_id'].count()\n",
    "print(f'There are {duration_zero} rides with ride_lenght zero.')"
   ]
  },
  {
   "cell_type": "markdown",
   "id": "2f8d2190-63c9-4d64-b1ed-0ac2f427bc5b",
   "metadata": {},
   "source": [
    "#### In order to clean the data we will ignore each line with less than or equal to zero ride_length and check the ride_ids for dups next."
   ]
  },
  {
   "cell_type": "code",
   "execution_count": null,
   "id": "002bbc31-641b-4331-b87f-8f37d99f8562",
   "metadata": {},
   "outputs": [],
   "source": [
    "df_cc = df_cc.loc[df_cc.ride_length.dt.total_seconds() > 0,:]\n",
    "df_cc.head()"
   ]
  },
  {
   "cell_type": "markdown",
   "id": "fb11dc95-5d39-463a-824a-23f27c753b77",
   "metadata": {},
   "source": [
    "#### Checking for ride_id duplicates: There are NOT duplicates remaining"
   ]
  },
  {
   "cell_type": "code",
   "execution_count": null,
   "id": "121390a6-c95c-434c-bcb9-f4edde0224a1",
   "metadata": {},
   "outputs": [],
   "source": [
    "df_test = df_cc.loc[:,['ride_id','ride_length']].groupby(by='ride_id').agg(total_appearances = ('ride_length','count')).reset_index()\n",
    "df_cc[df_cc['ride_id'].isin(df_test[df_test.total_appearances > 1].ride_id.to_list())]"
   ]
  },
  {
   "cell_type": "markdown",
   "id": "ce8b304c-a458-4709-806e-d19cfeef19a1",
   "metadata": {},
   "source": [
    "#### Checking that the function is trasforming day names correctly"
   ]
  },
  {
   "cell_type": "code",
   "execution_count": null,
   "id": "e5af23b0-7c9c-4016-ae9b-f8950b00ad70",
   "metadata": {},
   "outputs": [],
   "source": [
    "df_cc.loc[:,['day_of_week','day_name']].drop_duplicates().sort_values(by='day_of_week',ascending=True)"
   ]
  },
  {
   "cell_type": "markdown",
   "id": "2eb6492b-dcdc-421e-888f-3b9df4c64770",
   "metadata": {},
   "source": [
    "### With that we conclude the Cleaning Process"
   ]
  },
  {
   "cell_type": "markdown",
   "id": "9c623a54-ed29-4254-b76a-b713fbe8b5cd",
   "metadata": {},
   "source": [
    "## First Calculations:"
   ]
  },
  {
   "cell_type": "markdown",
   "id": "88b5f772-77b5-4352-8578-b83d397279bb",
   "metadata": {},
   "source": [
    "### - Average ride"
   ]
  },
  {
   "cell_type": "code",
   "execution_count": null,
   "id": "f045fca2-0788-4d5a-88a7-994ea70e4313",
   "metadata": {},
   "outputs": [],
   "source": [
    "print(f'The average ride among all users is: {round(np.mean(df_cc.ride_length.dt.seconds/60),2)} minutes aprox.')"
   ]
  },
  {
   "cell_type": "markdown",
   "id": "0fc72f2b-3aea-4520-94a9-c914ea7d3bb2",
   "metadata": {},
   "source": [
    "### - The Longest ride"
   ]
  },
  {
   "cell_type": "code",
   "execution_count": null,
   "id": "e315f192-87d9-4a5c-bfc9-2ec8b1a3c39f",
   "metadata": {},
   "outputs": [],
   "source": [
    "print(f'The Longest ride for among all users is: {round(np.max(df_cc.ride_length.dt.seconds/60),2)} minutes aprox.')"
   ]
  },
  {
   "cell_type": "markdown",
   "id": "892c2fe1-d1b2-45a2-8cd8-f7ff36fd6dd8",
   "metadata": {},
   "source": [
    "### - Total Uses By Day"
   ]
  },
  {
   "cell_type": "code",
   "execution_count": null,
   "id": "27bead04-feff-4c79-941d-142af5f2ea01",
   "metadata": {},
   "outputs": [],
   "source": [
    "df_cc.loc[:,['ride_id','day_name']].groupby('day_name').nunique().sort_values('ride_id').reset_index()"
   ]
  },
  {
   "cell_type": "markdown",
   "id": "40a6f95f-9c21-4754-806b-b86e4bedecb8",
   "metadata": {},
   "source": [
    "## Exploratory Analysis:"
   ]
  },
  {
   "cell_type": "markdown",
   "id": "184bee15-2d9e-4b6a-9bae-16a0f6ce6e71",
   "metadata": {},
   "source": [
    "### - Total uses by day"
   ]
  },
  {
   "cell_type": "code",
   "execution_count": null,
   "id": "9062d0e0-42b6-4d5a-90c5-1d31e3ce44ed",
   "metadata": {},
   "outputs": [],
   "source": [
    "fig, ax = plt.subplots(figsize=[10,5])\n",
    "\n",
    "ax = sns.barplot(data = df_cc.loc[:,['ride_id','day_name']].groupby('day_name').count().sort_values('ride_id').reset_index(),\n",
    "           x = 'day_name',\n",
    "           y = 'ride_id',\n",
    "           palette = 'Blues'\n",
    "           )\n",
    "\n",
    "for container in ax.containers:\n",
    "    ax.bar_label(container,labels=[f'{x:,.2f}' + 'M' for x in container.datavalues/1000000])\n",
    "    \n",
    "ax.yaxis.set_major_formatter(ticker.FuncFormatter(lambda x, pos: f'{x/1000000:,.2f}' + 'M'))\n",
    "\n",
    "ax.set(title = 'Utilization by day', ylabel='Rides', xlabel = 'Day Of Week',ylim= (0,1600000))\n",
    "\n",
    "plt.show()"
   ]
  },
  {
   "cell_type": "markdown",
   "id": "f6c0ef4a-5509-4649-ae99-5bd855ac0443",
   "metadata": {},
   "source": [
    "### Average ride lengths for members and casual riders"
   ]
  },
  {
   "cell_type": "code",
   "execution_count": null,
   "id": "a64e1f21-c8dd-421e-b8f7-ce6b8d0757c7",
   "metadata": {},
   "outputs": [],
   "source": [
    "df_cc.loc[:,['member_casual','ride_length']].groupby('member_casual').mean(numeric_only=False)"
   ]
  },
  {
   "cell_type": "markdown",
   "id": "340b1c1d-91f2-422c-b7df-e5f61c302c2b",
   "metadata": {},
   "source": [
    "### Average ride length by day of week for members and casual riders"
   ]
  },
  {
   "cell_type": "code",
   "execution_count": null,
   "id": "2403ce6f-ede4-4047-acb1-7d5ef9b4df0c",
   "metadata": {},
   "outputs": [],
   "source": [
    "df_cc['ride_length_sec'] = df_cc.ride_length.dt.total_seconds()\n",
    "pt_avg_by_day = df_cc.pivot_table(values='ride_length_sec',columns=['day_name'],index=['member_casual'],aggfunc=np.mean)\n",
    "pt_avg_by_day"
   ]
  },
  {
   "cell_type": "code",
   "execution_count": null,
   "id": "4cbaff8e-4aab-44df-ab28-81c63621a41f",
   "metadata": {},
   "outputs": [],
   "source": [
    "avg_by_day = df_cc.loc[:,['member_casual','day_name','day_of_week','ride_length_sec']].groupby(['member_casual','day_of_week','day_name']).mean().reset_index()\n",
    "\n",
    "fig, ax = plt.subplots(figsize=[10,5])\n",
    "\n",
    "ax = sns.barplot(data=avg_by_day.sort_values('day_of_week',ascending=True),x='day_name',y='ride_length_sec',hue='member_casual',palette='RdBu')\n",
    "\n",
    "for container in ax.containers:\n",
    "    ax.bar_label(container,labels=[f'{x:,.0f}' for x in container.datavalues])\n",
    "    \n",
    "ax.set(title=\"Week Average Use By Type of Consumer\",ylabel='Ride Duration (Seconds)',xlabel='Day of Week')\n",
    "\n",
    "ax.yaxis.set_major_formatter(ticker.FuncFormatter(lambda x, pos: f'{x:,.0f}'))\n",
    "\n",
    "plt.show()"
   ]
  },
  {
   "cell_type": "markdown",
   "id": "a3a585d1-d3ad-4181-a383-4164a9cf227e",
   "metadata": {},
   "source": [
    "## Analysis Over Time\n",
    "### - Amount of Trips by Quarter"
   ]
  },
  {
   "cell_type": "code",
   "execution_count": null,
   "id": "e862d1c3-9b6a-4318-b95f-ec9db592bda5",
   "metadata": {},
   "outputs": [],
   "source": [
    "df_cc['year_quarter'] = df_cc.started_at.dt.to_period('Q').dt.strftime('%Y-Q%q')\n",
    "df_cc.head()"
   ]
  },
  {
   "cell_type": "code",
   "execution_count": null,
   "id": "1118d2be-6ff3-48af-b796-a555e5fd2591",
   "metadata": {},
   "outputs": [],
   "source": [
    "df_cc.loc[:,['year_quarter','member_casual','ride_id']].groupby(['year_quarter','member_casual']).count()"
   ]
  },
  {
   "cell_type": "code",
   "execution_count": null,
   "id": "da178b1c-d008-44f0-89eb-9743de404f28",
   "metadata": {},
   "outputs": [],
   "source": [
    "fig, ax = plt.subplots(figsize=[20,8])\n",
    "\n",
    "sns.lineplot(\n",
    "    data = df_cc.loc[:,['year_quarter','member_casual','ride_id']].groupby(['year_quarter','member_casual']).count(),\n",
    "    x = 'year_quarter',\n",
    "    y = 'ride_id',\n",
    "    hue = 'member_casual',\n",
    "    palette = 'RdBu',\n",
    "    lw = 4\n",
    ")#.set(title = 'Trips by Month', ylabel = 'Amount Of Trips')\n",
    "    \n",
    "ax.set(title=\"Trips Completed QoQ\",ylabel='Trips Completed',xlabel='Quarter')\n",
    "\n",
    "ax.yaxis.set_major_formatter(ticker.FuncFormatter(lambda x, pos: f'{x/1000000:,.2f}' + 'M'))\n",
    "\n",
    "plt.grid()\n",
    "\n",
    "plt.show()"
   ]
  },
  {
   "cell_type": "markdown",
   "id": "ff9bc6b8-a726-4bee-9275-53436f059ea4",
   "metadata": {},
   "source": [
    "### Which byke type is the most popular among each user type?"
   ]
  },
  {
   "cell_type": "code",
   "execution_count": null,
   "id": "4174a37c-3f72-4a3a-8206-04e2c1fed3f3",
   "metadata": {},
   "outputs": [],
   "source": [
    "df_cc.loc[:,['ride_id','rideable_type','member_casual']].groupby(['rideable_type','member_casual']).count()"
   ]
  },
  {
   "cell_type": "code",
   "execution_count": null,
   "id": "9339e486-bd0d-4326-8dec-6888b8c76f11",
   "metadata": {},
   "outputs": [],
   "source": [
    "fig, ax = plt.subplots(figsize=[20,8])\n",
    "\n",
    "sns.barplot(\n",
    "    data = df_cc.loc[:,['ride_id','rideable_type','member_casual']].groupby(['rideable_type','member_casual']).count().reset_index(),\n",
    "    x = 'rideable_type',\n",
    "    y = 'ride_id',\n",
    "    hue = 'member_casual',\n",
    "    palette = 'RdBu'\n",
    ").set(title = 'Most Popular Bike by each user type', xlabel = 'Type Of Bike', ylabel = 'Amount Of Trips')\n",
    "\n",
    "for container in ax.containers:\n",
    "    ax.bar_label(container,labels=[f'{x/1000000:,.2f}M' for x in container.datavalues])\n",
    "\n",
    "ax.yaxis.set_major_formatter(ticker.FuncFormatter(lambda x, pos: f'{x/1000000:,.2f}' + 'M'))\n",
    "\n",
    "plt.grid()\n",
    "\n",
    "plt.show()"
   ]
  },
  {
   "cell_type": "markdown",
   "id": "a2d9ddd5-403f-4a27-b849-0fa9a4c9a97a",
   "metadata": {},
   "source": [
    "<p>\n",
    "If we consider the utilization per each bike type a measure of popularity, then the most popular bike for the members is the `classic bike` and for the casual users is the `docked bike`.\n",
    "</p>"
   ]
  },
  {
   "cell_type": "markdown",
   "id": "26a6b92a-7003-4e1f-9e76-7fbd4966da21",
   "metadata": {},
   "source": [
    "### Which bike type has the longer trips?"
   ]
  },
  {
   "cell_type": "code",
   "execution_count": null,
   "id": "ac5b14e6-8b59-49f9-9ba2-ca5316b58526",
   "metadata": {},
   "outputs": [],
   "source": [
    "df_cc.loc[:,['ride_length_sec','rideable_type','member_casual']].groupby(['rideable_type','member_casual']).agg(\n",
    "    trip_duration_mean = ('ride_length_sec', np.mean),\n",
    "    trip_duration_p90 = ('ride_length_sec', lambda x: np.quantile(x,0.90))\n",
    ")"
   ]
  },
  {
   "cell_type": "code",
   "execution_count": null,
   "id": "297deba0-c842-4e62-a84d-59bb49392e25",
   "metadata": {},
   "outputs": [],
   "source": [
    "fig, ax = plt.subplots(figsize=[20,8])\n",
    "\n",
    "sns.barplot(\n",
    "    data = df_cc.loc[:,['ride_length_sec','rideable_type','member_casual']].groupby(['rideable_type','member_casual']).quantile(0.90).reset_index(),\n",
    "    x = 'rideable_type',\n",
    "    y = 'ride_length_sec',\n",
    "    hue = 'member_casual',\n",
    "    palette = 'RdBu'\n",
    ").set(title = 'Trip Lengths (P90) by Bike Type', xlabel = 'Type Of Bike', ylabel = 'Trip Duration - P90 (Secs)')\n",
    "\n",
    "for container in ax.containers:\n",
    "    ax.bar_label(container,labels=[f'{x:,.0f}' for x in container.datavalues])\n",
    "\n",
    "plt.grid()\n",
    "plt.show()"
   ]
  },
  {
   "cell_type": "markdown",
   "id": "96bd00d0-1b98-4f3d-9e30-555e544936a2",
   "metadata": {},
   "source": [
    "<p>\n",
    "The 90 percent of rides from casual users are almost the double from the members for each type of bike.\n",
    "This is clearly a problem since the users that don't pay a subscription are the ones having a higher utilization.\n",
    "</p>"
   ]
  },
  {
   "cell_type": "markdown",
   "id": "3625d313-332c-456c-b47a-bda9ea87fa65",
   "metadata": {},
   "source": [
    "### Which consumer uses what bike the most per type of user?"
   ]
  },
  {
   "cell_type": "code",
   "execution_count": null,
   "id": "a8ae6350-203b-432b-bc8b-84a02cc3b4f1",
   "metadata": {},
   "outputs": [],
   "source": [
    "rides_by_day = df_cc.loc[:,['member_casual','day_name','day_of_week','ride_id']].groupby(['member_casual','day_of_week','day_name']).count().reset_index()\n",
    "\n",
    "fig, ax = plt.subplots(figsize=[20,8])\n",
    "\n",
    "ax = sns.barplot(data=rides_by_day.sort_values('day_of_week',ascending=True),x='day_name',y='ride_id',hue='member_casual',palette='RdBu')\n",
    "\n",
    "for container in ax.containers:\n",
    "    ax.bar_label(container,labels=[f'{x/1000000:,.2f}M' for x in container.datavalues])\n",
    "\n",
    "ax.yaxis.set_major_formatter(ticker.FuncFormatter(lambda x, pos: f'{x/1000000:,.2f}M'))    \n",
    "\n",
    "ax.set(title=\"Total Rides By Type of Consumer\", xlabel = \"Day of Week\", ylabel = \"# Rides\")\n",
    "\n",
    "plt.show()"
   ]
  },
  {
   "cell_type": "markdown",
   "id": "ffcfe5e9-cf82-45eb-802f-5f7442f91d97",
   "metadata": {},
   "source": [
    "<p>\n",
    "    <li>Members have a higher utilization of the service in weekdays. In the other hand the casual users have a higher utilization on the weekends.</li>\n",
    "    <li>A Price change strategy could make the casual users to subscribe so they have a better deal on the service.</li>\n",
    "</p>"
   ]
  },
  {
   "cell_type": "markdown",
   "id": "73d61090-80a4-4449-93a4-f6600aa07b81",
   "metadata": {},
   "source": [
    "What my team and I are trying to accomplish is to understand how casual riders and annual members use Cyclistic bikes differently in order to help the company to create a new marketing strategy to convert casual riders into annual members. The hypothesis that the director of marketing has is that the company's future success depends on maximizing the number of annual memberships.\n",
    "\n",
    "The team would like to answer two questions: create a better engagement between the customer and the company, and the same time confirm o disproof the belives of Lily Moreno (Director of Marketing).\n",
    "\n",
    "The bottom line is to generate more income to the company by engaging the new and casual cyclists to commit a better plan with the company. The core of the analysis will show how to create this \"engage\" between the clients and the company.\n",
    "\n",
    "The main stakeholders are:\n",
    "\n",
    "- Lily Moreno/Director of Marketing\n",
    "- Cyclistic Marketing Analytics Team\n",
    "- Cyclistic Executive Team\n",
    "\n",
    "Since there are two types of sources, files in 'Raw Data' and files within folders inside 'Raw Data'. In order to extract the data that we need, we must filter the vector to get the files with names with the following name convention: _**YYYYMM-divvy-tripdata.csv**_. We will accomplish that by using regex to compare each name to the standard defined.\n",
    "\n",
    "Tools used:\n",
    "- JupiterLab (Python 3.0)\n",
    "- RStudio\n",
    "\n",
    "I wanted to practice both languages that I learned for data science. Since this course taught me R, I tried to use it first and give it a more leading role into my project. I encounter several problems with R, some that appeared when I tried to daily drive it, I would called it the end of the honeymoon stage.\n",
    "\n",
    "In the other hand I had python, my first love and favorite tool, whenever I used it I felt like a fish in the water. I know that Python requires bit more code than R but those logical steps where missing from R. I realized that I know better so I completed my project using what I know best: Python.\n",
    "\n",
    "One error that I committed was to let the Python and R engines decide the type of the column. The problem was that I saved the data as a CSV consolidate so I could have a checkpoint. This was done with the finality to continue my work without having the need of extracting the data from every single file all over again. When I read the csv the engines of both tools interpreted the kind of file perfectly. I did not had the need of changing the type of variable of any column.\n",
    "\n",
    "I believe this time it was luck but what is recommended is to assign the type of variable from the beginning to alleviate load of the server/cpu.\n",
    "\n",
    "**Surprises:**\n",
    "\n",
    "The biggest surprise that I managed to find was that both type of user: \"member\" and \"casual\" had a very similar behavior when we checked the amount of trips by month. I was expecting to see a lower engagement from the casual side, meaning a significant less percentage than the members. At one point, I was able to see the all time high of usages on July 2021 but the majority of trips were performed by the casuals.\n",
    "\n",
    "**Trends:**\n",
    "\n",
    "There is a trend, or in other words a seasonality. It is notable that in Q3 occur the highest peaks of usage, Q1 presents the lowest points of usage. This is mostly due to the weather in each stage of the year, having the least rain in Q3 and the most rain in Q1. Q2 presents increases and Q4 decreases since the evolution of the weather on each stage.\n",
    "\n",
    "**relationships:**\n",
    "\n",
    "A weird relationship that was found within the data was that the casual riders performed longer trips with every type of bike than the members. This is an opportunity to transform casuals into members, have charge after X amount of miles traveled.\n",
    "\n",
    "The visualization that I'm the most proud of is the one called: Trips by Month. There is one variable that is always present in every dataset, this variable is called: time. The time on the events happen and how time factors affect the study are always important. It is a must to check any variable and their relationship with time.\n",
    "\n",
    "I would have liked to have the pricing data of the membership and what the membership entailed. Check wether the cost of the membership and its perks is worth the money to the costumers. Maybe it would be the best to create a new type of billing knowing that the casuals make longer rides than the members.\n",
    "\n",
    "The other type of data that I would have liked is geographical data. With this is intended to find a pattern in the usage if the bikes, for example: If the city has apartments or suburbs in one area and the offices in an adjacent area. The idea would be to have a bigger amount of bikes next to where the people live, so they take the bike to work and delivered it closer to their jobs.  \n"
   ]
  }
 ],
 "metadata": {
  "kernelspec": {
   "display_name": "Python 3 (ipykernel)",
   "language": "python",
   "name": "python3"
  },
  "language_info": {
   "codemirror_mode": {
    "name": "ipython",
    "version": 3
   },
   "file_extension": ".py",
   "mimetype": "text/x-python",
   "name": "python",
   "nbconvert_exporter": "python",
   "pygments_lexer": "ipython3",
   "version": "3.8.8"
  }
 },
 "nbformat": 4,
 "nbformat_minor": 5
}
